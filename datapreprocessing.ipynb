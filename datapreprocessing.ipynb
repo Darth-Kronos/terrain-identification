{
 "cells": [
  {
   "cell_type": "code",
   "execution_count": 2,
   "metadata": {},
   "outputs": [],
   "source": [
    "import pandas as pd\n",
    "import numpy as np\n",
    "import glob\n",
    "import os\n"
   ]
  },
  {
   "cell_type": "code",
   "execution_count": 3,
   "metadata": {},
   "outputs": [],
   "source": [
    "data_root = 'data/TrainingData/'\n",
    "X_TIME = 'subject_{}_{}__x_time.csv'\n",
    "X_DATA = 'subject_{}_{}__x.csv'\n",
    "\n",
    "Y_TIME = 'subject_{}_{}__y_time.csv'\n",
    "Y_DATA = 'subject_{}_{}__y.csv'"
   ]
  },
  {
   "cell_type": "code",
   "execution_count": 4,
   "metadata": {},
   "outputs": [],
   "source": [
    "files_x_data = sorted(glob.glob(data_root+X_DATA.format('*', '*')))\n",
    "files_x_time = sorted(glob.glob(data_root+X_TIME.format('*', '*')))\n",
    "\n",
    "files_y_data = sorted(glob.glob(data_root+Y_DATA.format('*', '*')))\n",
    "files_y_time = sorted(glob.glob(data_root+Y_TIME.format('*', '*')))"
   ]
  },
  {
   "cell_type": "code",
   "execution_count": 5,
   "metadata": {},
   "outputs": [],
   "source": [
    "pd_x = pd.DataFrame()\n",
    "pd_y = pd.DataFrame()"
   ]
  },
  {
   "cell_type": "code",
   "execution_count": 6,
   "metadata": {},
   "outputs": [],
   "source": [
    "for i in range(len(files_x_data)):\n",
    "    y_data = pd.read_csv(files_y_data[i], names=['label'])\n",
    "    y_time = pd.read_csv(files_y_time[i], names=['time'])\n",
    "\n",
    "    x_data = pd.read_csv(files_x_data[i], names=['accr_x', 'accr_y','accr_z','gyr_x','gyr_y','gyr_z'])\n",
    "    x_time = pd.read_csv(files_x_time[i], names=['time'])\n",
    "\n",
    "    x_data = pd.concat([x_data, x_time], axis=1)\n",
    "    y_data = pd.concat([y_data, y_time], axis=1)\n",
    "    # downsampling here -----> \n",
    "    pd_x = pd.concat([pd_x, x_data], axis=0)\n",
    "    pd_y = pd.concat([pd_y, y_data], axis=0)"
   ]
  },
  {
   "cell_type": "code",
   "execution_count": null,
   "metadata": {},
   "outputs": [],
   "source": []
  }
 ],
 "metadata": {
  "kernelspec": {
   "display_name": "ML",
   "language": "python",
   "name": "python3"
  },
  "language_info": {
   "codemirror_mode": {
    "name": "ipython",
    "version": 3
   },
   "file_extension": ".py",
   "mimetype": "text/x-python",
   "name": "python",
   "nbconvert_exporter": "python",
   "pygments_lexer": "ipython3",
   "version": "3.10.10"
  },
  "orig_nbformat": 4
 },
 "nbformat": 4,
 "nbformat_minor": 2
}
