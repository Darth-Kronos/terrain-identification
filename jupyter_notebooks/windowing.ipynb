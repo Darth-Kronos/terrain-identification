{
 "cells": [
  {
   "cell_type": "code",
   "execution_count": 1,
   "metadata": {},
   "outputs": [],
   "source": [
    "import os\n",
    "import glob\n",
    "import numpy as np\n",
    "import pandas as pd\n",
    "from tqdm.notebook import tqdm"
   ]
  },
  {
   "cell_type": "code",
   "execution_count": 2,
   "metadata": {},
   "outputs": [],
   "source": [
    "col_names = [\"accr_x\", \"accr_y\", \"accr_z\", \"gyr_x\", \"gyr_y\", \"gyr_z\"]"
   ]
  },
  {
   "cell_type": "code",
   "execution_count": 3,
   "metadata": {},
   "outputs": [],
   "source": [
    "data_root = \"/Users/purushothamanyadav/Documents/NCSU/Spring23/NN/Project/ProjC/terrain-identification/data/TrainingData/\"\n",
    "test_root = \"/Users/purushothamanyadav/Documents/NCSU/Spring23/NN/Project/ProjC/terrain-identification/data/TestData/\"\n",
    "X_TIME = \"subject_{}_{}__x_time.csv\"\n",
    "X_DATA = \"subject_{}_{}__x.csv\"\n",
    "\n",
    "Y_TIME = \"subject_{}_{}__y_time.csv\"\n",
    "Y_DATA = \"subject_{}_{}__y.csv\""
   ]
  },
  {
   "cell_type": "code",
   "execution_count": 4,
   "metadata": {},
   "outputs": [],
   "source": [
    "# Define sequence parameters\n",
    "label_sampling_rate = 0.1\n",
    "data_sampling_rate = 0.025\n",
    "\n",
    "sequence_length = 6\n",
    "overlap = 2"
   ]
  },
  {
   "cell_type": "code",
   "execution_count": 5,
   "metadata": {},
   "outputs": [],
   "source": [
    "files_x_data = sorted(glob.glob(data_root + X_DATA.format(\"*\", \"*\")))\n",
    "files_x_time = sorted(glob.glob(data_root + X_TIME.format(\"*\", \"*\")))\n",
    "\n",
    "files_y_data = sorted(glob.glob(data_root + Y_DATA.format(\"*\", \"*\")))\n",
    "files_y_time = sorted(glob.glob(data_root + Y_TIME.format(\"*\", \"*\")))"
   ]
  },
  {
   "cell_type": "code",
   "execution_count": 6,
   "metadata": {},
   "outputs": [
    {
     "data": {
      "application/vnd.jupyter.widget-view+json": {
       "model_id": "d5b3dfcdd6a941bfa18611f2068dff7f",
       "version_major": 2,
       "version_minor": 0
      },
      "text/plain": [
       "Files:   0%|          | 0/29 [00:00<?, ?it/s]"
      ]
     },
     "metadata": {},
     "output_type": "display_data"
    },
    {
     "data": {
      "application/vnd.jupyter.widget-view+json": {
       "model_id": "91ce98bd9911468c8accf30b6729404d",
       "version_major": 2,
       "version_minor": 0
      },
      "text/plain": [
       "Creating Sequences:   0%|          | 0/9472 [00:00<?, ?it/s]"
      ]
     },
     "metadata": {},
     "output_type": "display_data"
    },
    {
     "data": {
      "application/vnd.jupyter.widget-view+json": {
       "model_id": "c3351baa8062455697b55616436e3de2",
       "version_major": 2,
       "version_minor": 0
      },
      "text/plain": [
       "Creating Sequences:   0%|          | 0/17543 [00:00<?, ?it/s]"
      ]
     },
     "metadata": {},
     "output_type": "display_data"
    },
    {
     "data": {
      "application/vnd.jupyter.widget-view+json": {
       "model_id": "eb36d00ac4004a868958471030879a12",
       "version_major": 2,
       "version_minor": 0
      },
      "text/plain": [
       "Creating Sequences:   0%|          | 0/10786 [00:00<?, ?it/s]"
      ]
     },
     "metadata": {},
     "output_type": "display_data"
    },
    {
     "data": {
      "application/vnd.jupyter.widget-view+json": {
       "model_id": "fd2047975b354ce4b7b2b2429e2ac4dc",
       "version_major": 2,
       "version_minor": 0
      },
      "text/plain": [
       "Creating Sequences:   0%|          | 0/13739 [00:00<?, ?it/s]"
      ]
     },
     "metadata": {},
     "output_type": "display_data"
    },
    {
     "data": {
      "application/vnd.jupyter.widget-view+json": {
       "model_id": "a6d28e0dc3a0409e98ae55c427b02e5e",
       "version_major": 2,
       "version_minor": 0
      },
      "text/plain": [
       "Creating Sequences:   0%|          | 0/14780 [00:00<?, ?it/s]"
      ]
     },
     "metadata": {},
     "output_type": "display_data"
    },
    {
     "data": {
      "application/vnd.jupyter.widget-view+json": {
       "model_id": "56e6a6dbe6464900846480ac5370cede",
       "version_major": 2,
       "version_minor": 0
      },
      "text/plain": [
       "Creating Sequences:   0%|          | 0/9658 [00:00<?, ?it/s]"
      ]
     },
     "metadata": {},
     "output_type": "display_data"
    },
    {
     "data": {
      "application/vnd.jupyter.widget-view+json": {
       "model_id": "ff7dfed0ed8949f9aafd73a474995f70",
       "version_major": 2,
       "version_minor": 0
      },
      "text/plain": [
       "Creating Sequences:   0%|          | 0/7856 [00:00<?, ?it/s]"
      ]
     },
     "metadata": {},
     "output_type": "display_data"
    },
    {
     "data": {
      "application/vnd.jupyter.widget-view+json": {
       "model_id": "d5e188e7c75c40b1b2e34bbf13766873",
       "version_major": 2,
       "version_minor": 0
      },
      "text/plain": [
       "Creating Sequences:   0%|          | 0/16690 [00:00<?, ?it/s]"
      ]
     },
     "metadata": {},
     "output_type": "display_data"
    },
    {
     "data": {
      "application/vnd.jupyter.widget-view+json": {
       "model_id": "6cc5bdadcc75437c84b798cae1932294",
       "version_major": 2,
       "version_minor": 0
      },
      "text/plain": [
       "Creating Sequences:   0%|          | 0/14000 [00:00<?, ?it/s]"
      ]
     },
     "metadata": {},
     "output_type": "display_data"
    },
    {
     "data": {
      "application/vnd.jupyter.widget-view+json": {
       "model_id": "3e3058aad4ee432ba5df3bf183a6e077",
       "version_major": 2,
       "version_minor": 0
      },
      "text/plain": [
       "Creating Sequences:   0%|          | 0/13850 [00:00<?, ?it/s]"
      ]
     },
     "metadata": {},
     "output_type": "display_data"
    },
    {
     "data": {
      "application/vnd.jupyter.widget-view+json": {
       "model_id": "e7357f806b79481dacd9da999ee47f92",
       "version_major": 2,
       "version_minor": 0
      },
      "text/plain": [
       "Creating Sequences:   0%|          | 0/12199 [00:00<?, ?it/s]"
      ]
     },
     "metadata": {},
     "output_type": "display_data"
    },
    {
     "data": {
      "application/vnd.jupyter.widget-view+json": {
       "model_id": "47120ea6bffa4281b0b97df5e8970c46",
       "version_major": 2,
       "version_minor": 0
      },
      "text/plain": [
       "Creating Sequences:   0%|          | 0/12865 [00:00<?, ?it/s]"
      ]
     },
     "metadata": {},
     "output_type": "display_data"
    },
    {
     "data": {
      "application/vnd.jupyter.widget-view+json": {
       "model_id": "68972d9d44844d7fa8877a51f09e60ed",
       "version_major": 2,
       "version_minor": 0
      },
      "text/plain": [
       "Creating Sequences:   0%|          | 0/10580 [00:00<?, ?it/s]"
      ]
     },
     "metadata": {},
     "output_type": "display_data"
    },
    {
     "data": {
      "application/vnd.jupyter.widget-view+json": {
       "model_id": "61a509eb685c4fdfa14171697c239bd4",
       "version_major": 2,
       "version_minor": 0
      },
      "text/plain": [
       "Creating Sequences:   0%|          | 0/9078 [00:00<?, ?it/s]"
      ]
     },
     "metadata": {},
     "output_type": "display_data"
    },
    {
     "data": {
      "application/vnd.jupyter.widget-view+json": {
       "model_id": "9c732f8a02de412fb551aba9da12cc00",
       "version_major": 2,
       "version_minor": 0
      },
      "text/plain": [
       "Creating Sequences:   0%|          | 0/11802 [00:00<?, ?it/s]"
      ]
     },
     "metadata": {},
     "output_type": "display_data"
    },
    {
     "data": {
      "application/vnd.jupyter.widget-view+json": {
       "model_id": "ea97b190641e4d5796c755e425fdce9b",
       "version_major": 2,
       "version_minor": 0
      },
      "text/plain": [
       "Creating Sequences:   0%|          | 0/4883 [00:00<?, ?it/s]"
      ]
     },
     "metadata": {},
     "output_type": "display_data"
    },
    {
     "data": {
      "application/vnd.jupyter.widget-view+json": {
       "model_id": "03ea2660febc4c77840ca2766a20454e",
       "version_major": 2,
       "version_minor": 0
      },
      "text/plain": [
       "Creating Sequences:   0%|          | 0/8577 [00:00<?, ?it/s]"
      ]
     },
     "metadata": {},
     "output_type": "display_data"
    },
    {
     "data": {
      "application/vnd.jupyter.widget-view+json": {
       "model_id": "45efc6210b4c456799566665bd976d7c",
       "version_major": 2,
       "version_minor": 0
      },
      "text/plain": [
       "Creating Sequences:   0%|          | 0/8619 [00:00<?, ?it/s]"
      ]
     },
     "metadata": {},
     "output_type": "display_data"
    },
    {
     "data": {
      "application/vnd.jupyter.widget-view+json": {
       "model_id": "be25637db5284871a9f5f0051bd37ff6",
       "version_major": 2,
       "version_minor": 0
      },
      "text/plain": [
       "Creating Sequences:   0%|          | 0/14020 [00:00<?, ?it/s]"
      ]
     },
     "metadata": {},
     "output_type": "display_data"
    },
    {
     "data": {
      "application/vnd.jupyter.widget-view+json": {
       "model_id": "5895d53af29a451e8174caf651bd3de8",
       "version_major": 2,
       "version_minor": 0
      },
      "text/plain": [
       "Creating Sequences:   0%|          | 0/8630 [00:00<?, ?it/s]"
      ]
     },
     "metadata": {},
     "output_type": "display_data"
    },
    {
     "data": {
      "application/vnd.jupyter.widget-view+json": {
       "model_id": "83ce49b3151247b08d950bd0087f79f6",
       "version_major": 2,
       "version_minor": 0
      },
      "text/plain": [
       "Creating Sequences:   0%|          | 0/11226 [00:00<?, ?it/s]"
      ]
     },
     "metadata": {},
     "output_type": "display_data"
    },
    {
     "data": {
      "application/vnd.jupyter.widget-view+json": {
       "model_id": "eda8142b8e4e4126a27a4a78500eb8bd",
       "version_major": 2,
       "version_minor": 0
      },
      "text/plain": [
       "Creating Sequences:   0%|          | 0/12031 [00:00<?, ?it/s]"
      ]
     },
     "metadata": {},
     "output_type": "display_data"
    },
    {
     "data": {
      "application/vnd.jupyter.widget-view+json": {
       "model_id": "03ae7333423a4391b0a6a74705c9e6a9",
       "version_major": 2,
       "version_minor": 0
      },
      "text/plain": [
       "Creating Sequences:   0%|          | 0/14890 [00:00<?, ?it/s]"
      ]
     },
     "metadata": {},
     "output_type": "display_data"
    },
    {
     "data": {
      "application/vnd.jupyter.widget-view+json": {
       "model_id": "afc1f02649614970b9a17c4d506cabd8",
       "version_major": 2,
       "version_minor": 0
      },
      "text/plain": [
       "Creating Sequences:   0%|          | 0/11282 [00:00<?, ?it/s]"
      ]
     },
     "metadata": {},
     "output_type": "display_data"
    },
    {
     "data": {
      "application/vnd.jupyter.widget-view+json": {
       "model_id": "63df2b4f76114ae2a7a6c1552597bb92",
       "version_major": 2,
       "version_minor": 0
      },
      "text/plain": [
       "Creating Sequences:   0%|          | 0/11550 [00:00<?, ?it/s]"
      ]
     },
     "metadata": {},
     "output_type": "display_data"
    },
    {
     "data": {
      "application/vnd.jupyter.widget-view+json": {
       "model_id": "78ce6dcf67594a1798bf063f45c28134",
       "version_major": 2,
       "version_minor": 0
      },
      "text/plain": [
       "Creating Sequences:   0%|          | 0/11747 [00:00<?, ?it/s]"
      ]
     },
     "metadata": {},
     "output_type": "display_data"
    },
    {
     "data": {
      "application/vnd.jupyter.widget-view+json": {
       "model_id": "419f0dbc2f214f4999d36da23e78d717",
       "version_major": 2,
       "version_minor": 0
      },
      "text/plain": [
       "Creating Sequences:   0%|          | 0/11160 [00:00<?, ?it/s]"
      ]
     },
     "metadata": {},
     "output_type": "display_data"
    },
    {
     "data": {
      "application/vnd.jupyter.widget-view+json": {
       "model_id": "1f9017f0de7d43ce8ede77bd72ec261a",
       "version_major": 2,
       "version_minor": 0
      },
      "text/plain": [
       "Creating Sequences:   0%|          | 0/9860 [00:00<?, ?it/s]"
      ]
     },
     "metadata": {},
     "output_type": "display_data"
    },
    {
     "data": {
      "application/vnd.jupyter.widget-view+json": {
       "model_id": "24cfd94d6f8344e3bbdcbaa159a35910",
       "version_major": 2,
       "version_minor": 0
      },
      "text/plain": [
       "Creating Sequences:   0%|          | 0/12034 [00:00<?, ?it/s]"
      ]
     },
     "metadata": {},
     "output_type": "display_data"
    }
   ],
   "source": [
    "out_dir = \"/home/gmvincen/class_work/ece_542/terrain-identification/data/WindowedTraining\"\n",
    "for i in tqdm(files_x_data, total=len(files_x_data), desc=\"Files\"):\n",
    "    name = i.split(\"/\")[-1].rstrip(\".csv\")\n",
    "    \n",
    "    x_file = i\n",
    "    x_time = i.rstrip(\".csv\")+\"_time.csv\"\n",
    "    \n",
    "    y_file = i.rstrip(\"x.csv\")+\"y.csv\"\n",
    "    y_time = i.rstrip(\"x_time.csv\")+\"__y_time.csv\"\n",
    "    \n",
    "    time_df = pd.read_csv(x_time, names=['time'])\n",
    "    data_df = pd.read_csv(x_file, names=col_names)\n",
    "    label_time_df = pd.read_csv(y_time, names=['time'])\n",
    "    label_df = pd.read_csv(y_file, names=['label'])\n",
    "    \n",
    "    # Merge data and time dataframes\n",
    "    x_df = pd.concat([time_df, data_df], axis=1)\n",
    "    y_df = pd.concat([label_time_df, label_df], axis=1)\n",
    "    \n",
    "    # Create Sequences\n",
    "    sequences = pd.DataFrame(columns=col_names+['timestamp', 'time'])\n",
    "    for i in tqdm(range(0, len(x_df) - overlap, sequence_length - overlap), desc=\"Creating Sequences\"):\n",
    "        window = x_df.iloc[i:i+sequence_length, 1:]\n",
    "        \n",
    "        if window.shape[0] != sequence_length:\n",
    "            window = pd.concat([window, pd.DataFrame(np.nan, index=[0 for i in range(0, sequence_length-window.shape[0])], columns=window.columns)], ignore_index=True)\n",
    "            window = window.interpolate(method='linear')\n",
    "            \n",
    "        seq_df = pd.DataFrame(window, columns=col_names+['timestamp', 'time'])\n",
    "        timestamp = int(i/(sequence_length - overlap))\n",
    "        seq_df['timestamp'] = timestamp\n",
    "        seq_df['time'] = y_df.loc[timestamp, 'time']\n",
    "        \n",
    "        sequences = pd.concat([sequences,seq_df], axis=0, ignore_index=True)\n",
    "        \n",
    "    sequences['timestamp'] = sequences['timestamp'].astype(int)\n",
    "    \n",
    "    sequences.to_csv(os.path.join(out_dir, name+\".csv\"), index=False)\n",
    "    y_df.to_csv(os.path.join(out_dir, name.rstrip(\"x\")+\"y.csv\"), index=False)"
   ]
  },
  {
   "cell_type": "code",
   "execution_count": 7,
   "metadata": {},
   "outputs": [],
   "source": [
    "files_x_data = sorted(glob.glob(test_root + X_DATA.format(\"*\", \"*\")))\n",
    "files_x_time = sorted(glob.glob(test_root + X_TIME.format(\"*\", \"*\")))\n",
    "\n",
    "files_y_time = sorted(glob.glob(test_root + Y_TIME.format(\"*\", \"*\")))"
   ]
  },
  {
   "cell_type": "code",
   "execution_count": 8,
   "metadata": {},
   "outputs": [
    {
     "data": {
      "application/vnd.jupyter.widget-view+json": {
       "model_id": "81e787f672f5425bb10857fb97ce432d",
       "version_major": 2,
       "version_minor": 0
      },
      "text/plain": [
       "Files:   0%|          | 0/4 [00:00<?, ?it/s]"
      ]
     },
     "metadata": {},
     "output_type": "display_data"
    },
    {
     "data": {
      "application/vnd.jupyter.widget-view+json": {
       "model_id": "310a0d9cf2534d069355c9fed4b52fed",
       "version_major": 2,
       "version_minor": 0
      },
      "text/plain": [
       "Creating Sequences:   0%|          | 0/9498 [00:00<?, ?it/s]"
      ]
     },
     "metadata": {},
     "output_type": "display_data"
    },
    {
     "data": {
      "application/vnd.jupyter.widget-view+json": {
       "model_id": "a07eca478533490687c9dafb419f46e2",
       "version_major": 2,
       "version_minor": 0
      },
      "text/plain": [
       "Creating Sequences:   0%|          | 0/12270 [00:00<?, ?it/s]"
      ]
     },
     "metadata": {},
     "output_type": "display_data"
    },
    {
     "data": {
      "application/vnd.jupyter.widget-view+json": {
       "model_id": "dc8375889a414e28a5f0cdcef4e23744",
       "version_major": 2,
       "version_minor": 0
      },
      "text/plain": [
       "Creating Sequences:   0%|          | 0/12940 [00:00<?, ?it/s]"
      ]
     },
     "metadata": {},
     "output_type": "display_data"
    },
    {
     "data": {
      "application/vnd.jupyter.widget-view+json": {
       "model_id": "de79f25d6cdf43da8b70ec72590f9861",
       "version_major": 2,
       "version_minor": 0
      },
      "text/plain": [
       "Creating Sequences:   0%|          | 0/11330 [00:00<?, ?it/s]"
      ]
     },
     "metadata": {},
     "output_type": "display_data"
    }
   ],
   "source": [
    "out_dir = \"/home/gmvincen/class_work/ece_542/terrain-identification/data/WindowedTest\"\n",
    "for i in tqdm(files_x_data, total=len(files_x_data), desc=\"Files\"):\n",
    "    name = i.split(\"/\")[-1].rstrip(\".csv\")\n",
    "    \n",
    "    x_file = i\n",
    "    x_time = i.rstrip(\".csv\")+\"_time.csv\"\n",
    "    \n",
    "    y_time = i.rstrip(\"x_time.csv\")+\"__y_time.csv\"\n",
    "    \n",
    "    time_df = pd.read_csv(x_time, names=['time'])\n",
    "    data_df = pd.read_csv(x_file, names=col_names)\n",
    "    label_time_df = pd.read_csv(y_time, names=['time'])\n",
    "    \n",
    "    # Merge data and time dataframes\n",
    "    x_df = pd.concat([time_df, data_df], axis=1)\n",
    "    y_df = label_time_df\n",
    "    \n",
    "    # Create Sequences\n",
    "    sequences = pd.DataFrame(columns=col_names+['timestamp', 'time'])\n",
    "    for i in tqdm(range(0, len(x_df) - overlap, sequence_length - overlap), desc=\"Creating Sequences\"):\n",
    "        window = x_df.iloc[i:i+sequence_length, 1:]\n",
    "        \n",
    "        if window.shape[0] != sequence_length:\n",
    "            window = pd.concat([window, pd.DataFrame(np.nan, index=[0 for i in range(0, sequence_length-window.shape[0])], columns=window.columns)], ignore_index=True)\n",
    "            window = window.interpolate(method='linear')\n",
    "            \n",
    "        seq_df = pd.DataFrame(window, columns=col_names+['timestamp', 'time'])\n",
    "        timestamp = int(i/(sequence_length - overlap))\n",
    "        seq_df['timestamp'] = timestamp\n",
    "        seq_df['time'] = y_df.loc[timestamp, 'time']\n",
    "        \n",
    "        sequences = pd.concat([sequences,seq_df], axis=0, ignore_index=True)\n",
    "        \n",
    "    sequences['timestamp'] = sequences['timestamp'].astype(int)\n",
    "    \n",
    "    sequences.to_csv(os.path.join(out_dir, name+\".csv\"), index=False)\n",
    "    y_df.to_csv(os.path.join(out_dir, name.rstrip(\"x\")+\"y.csv\"), index=False)"
   ]
  },
  {
   "cell_type": "code",
   "execution_count": null,
   "metadata": {},
   "outputs": [],
   "source": []
  }
 ],
 "metadata": {
  "kernelspec": {
   "display_name": "542_env",
   "language": "python",
   "name": "python3"
  },
  "language_info": {
   "codemirror_mode": {
    "name": "ipython",
    "version": 3
   },
   "file_extension": ".py",
   "mimetype": "text/x-python",
   "name": "python",
   "nbconvert_exporter": "python",
   "pygments_lexer": "ipython3",
   "version": "3.10.8"
  },
  "orig_nbformat": 4
 },
 "nbformat": 4,
 "nbformat_minor": 2
}
