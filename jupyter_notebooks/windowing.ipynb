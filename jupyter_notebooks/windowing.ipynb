{
 "cells": [
  {
   "cell_type": "code",
   "execution_count": 1,
   "metadata": {},
   "outputs": [],
   "source": [
    "import os\n",
    "import glob\n",
    "import numpy as np\n",
    "import pandas as pd\n",
    "from tqdm.notebook import tqdm"
   ]
  },
  {
   "cell_type": "code",
   "execution_count": 2,
   "metadata": {},
   "outputs": [],
   "source": [
    "col_names = [\"accr_x\", \"accr_y\", \"accr_z\", \"gyr_x\", \"gyr_y\", \"gyr_z\"]"
   ]
  },
  {
   "cell_type": "code",
   "execution_count": 3,
   "metadata": {},
   "outputs": [],
   "source": [
    "data_root = \"terrain-identification/data/TrainingData/\"\n",
    "test_root = \"terrain-identification/data/TestData/\"\n",
    "X_TIME = \"subject_{}_{}__x_time.csv\"\n",
    "X_DATA = \"subject_{}_{}__x.csv\"\n",
    "\n",
    "Y_TIME = \"subject_{}_{}__y_time.csv\"\n",
    "Y_DATA = \"subject_{}_{}__y.csv\""
   ]
  },
  {
   "cell_type": "code",
   "execution_count": 4,
   "metadata": {},
   "outputs": [],
   "source": [
    "# Define sequence parameters\n",
    "label_sampling_rate = 0.1\n",
    "data_sampling_rate = 0.025\n",
    "\n",
    "sequence_length = 6\n",
    "overlap = 2"
   ]
  },
  {
   "cell_type": "code",
   "execution_count": 5,
   "metadata": {},
   "outputs": [],
   "source": [
    "files_x_data = sorted(glob.glob(data_root + X_DATA.format(\"*\", \"*\")))\n",
    "files_x_time = sorted(glob.glob(data_root + X_TIME.format(\"*\", \"*\")))\n",
    "\n",
    "files_y_data = sorted(glob.glob(data_root + Y_DATA.format(\"*\", \"*\")))\n",
    "files_y_time = sorted(glob.glob(data_root + Y_TIME.format(\"*\", \"*\")))"
   ]
  },
  {
   "cell_type": "code",
   "execution_count": null,
   "metadata": {},
   "outputs": [],
   "source": [
    "out_dir = \"terrain-identification/data/WindowedTraining\"\n",
    "for i in tqdm(files_x_data, total=len(files_x_data), desc=\"Files\"):\n",
    "    name = i.split(\"/\")[-1].rstrip(\".csv\")\n",
    "    \n",
    "    x_file = i\n",
    "    x_time = i.rstrip(\".csv\")+\"_time.csv\"\n",
    "    \n",
    "    y_file = i.rstrip(\"x.csv\")+\"y.csv\"\n",
    "    y_time = i.rstrip(\"x_time.csv\")+\"__y_time.csv\"\n",
    "    \n",
    "    time_df = pd.read_csv(x_time, names=['time'])\n",
    "    data_df = pd.read_csv(x_file, names=col_names)\n",
    "    label_time_df = pd.read_csv(y_time, names=['time'])\n",
    "    label_df = pd.read_csv(y_file, names=['label'])\n",
    "    \n",
    "    # Merge data and time dataframes\n",
    "    x_df = pd.concat([time_df, data_df], axis=1)\n",
    "    y_df = pd.concat([label_time_df, label_df], axis=1)\n",
    "    \n",
    "    # Create Sequences\n",
    "    sequences = pd.DataFrame(columns=col_names+['timestamp', 'time'])\n",
    "    for i in tqdm(range(0, len(x_df) - overlap, sequence_length - overlap), desc=\"Creating Sequences\"):\n",
    "        window = x_df.iloc[i:i+sequence_length, 1:]\n",
    "        \n",
    "        if window.shape[0] != sequence_length:\n",
    "            window = pd.concat([window, pd.DataFrame(np.nan, index=[0 for i in range(0, sequence_length-window.shape[0])], columns=window.columns)], ignore_index=True)\n",
    "            window = window.interpolate(method='linear')\n",
    "            \n",
    "        seq_df = pd.DataFrame(window, columns=col_names+['timestamp', 'time'])\n",
    "        timestamp = int(i/(sequence_length - overlap))\n",
    "        seq_df['timestamp'] = timestamp\n",
    "        seq_df['time'] = y_df.loc[timestamp, 'time']\n",
    "        \n",
    "        sequences = pd.concat([sequences,seq_df], axis=0, ignore_index=True)\n",
    "        \n",
    "    sequences['timestamp'] = sequences['timestamp'].astype(int)\n",
    "    \n",
    "    sequences.to_csv(os.path.join(out_dir, name+\".csv\"), index=False)\n",
    "    y_df.to_csv(os.path.join(out_dir, name.rstrip(\"x\")+\"y.csv\"), index=False)"
   ]
  },
  {
   "cell_type": "code",
   "execution_count": 7,
   "metadata": {},
   "outputs": [],
   "source": [
    "files_x_data = sorted(glob.glob(test_root + X_DATA.format(\"*\", \"*\")))\n",
    "files_x_time = sorted(glob.glob(test_root + X_TIME.format(\"*\", \"*\")))\n",
    "\n",
    "files_y_time = sorted(glob.glob(test_root + Y_TIME.format(\"*\", \"*\")))"
   ]
  },
  {
   "cell_type": "code",
   "execution_count": null,
   "metadata": {},
   "outputs": [],
   "source": [
    "out_dir = \"/home/gmvincen/class_work/ece_542/terrain-identification/data/WindowedTest\"\n",
    "for i in tqdm(files_x_data, total=len(files_x_data), desc=\"Files\"):\n",
    "    name = i.split(\"/\")[-1].rstrip(\".csv\")\n",
    "    \n",
    "    x_file = i\n",
    "    x_time = i.rstrip(\".csv\")+\"_time.csv\"\n",
    "    \n",
    "    y_time = i.rstrip(\"x_time.csv\")+\"__y_time.csv\"\n",
    "    \n",
    "    time_df = pd.read_csv(x_time, names=['time'])\n",
    "    data_df = pd.read_csv(x_file, names=col_names)\n",
    "    label_time_df = pd.read_csv(y_time, names=['time'])\n",
    "    \n",
    "    # Merge data and time dataframes\n",
    "    x_df = pd.concat([time_df, data_df], axis=1)\n",
    "    y_df = label_time_df\n",
    "    \n",
    "    # Create Sequences\n",
    "    sequences = pd.DataFrame(columns=col_names+['timestamp', 'time'])\n",
    "    for i in tqdm(range(0, len(x_df) - overlap, sequence_length - overlap), desc=\"Creating Sequences\"):\n",
    "        window = x_df.iloc[i:i+sequence_length, 1:]\n",
    "        \n",
    "        if window.shape[0] != sequence_length:\n",
    "            window = pd.concat([window, pd.DataFrame(np.nan, index=[0 for i in range(0, sequence_length-window.shape[0])], columns=window.columns)], ignore_index=True)\n",
    "            window = window.interpolate(method='linear')\n",
    "            \n",
    "        seq_df = pd.DataFrame(window, columns=col_names+['timestamp', 'time'])\n",
    "        timestamp = int(i/(sequence_length - overlap))\n",
    "        seq_df['timestamp'] = timestamp\n",
    "        seq_df['time'] = y_df.loc[timestamp, 'time']\n",
    "        \n",
    "        sequences = pd.concat([sequences,seq_df], axis=0, ignore_index=True)\n",
    "        \n",
    "    sequences['timestamp'] = sequences['timestamp'].astype(int)\n",
    "    \n",
    "    sequences.to_csv(os.path.join(out_dir, name+\".csv\"), index=False)\n",
    "    y_df.to_csv(os.path.join(out_dir, name.rstrip(\"x\")+\"y.csv\"), index=False)"
   ]
  },
  {
   "cell_type": "code",
   "execution_count": null,
   "metadata": {},
   "outputs": [],
   "source": []
  }
 ],
 "metadata": {
  "kernelspec": {
   "display_name": "542_env",
   "language": "python",
   "name": "python3"
  },
  "language_info": {
   "codemirror_mode": {
    "name": "ipython",
    "version": 3
   },
   "file_extension": ".py",
   "mimetype": "text/x-python",
   "name": "python",
   "nbconvert_exporter": "python",
   "pygments_lexer": "ipython3",
   "version": "3.10.11"
  },
  "orig_nbformat": 4
 },
 "nbformat": 4,
 "nbformat_minor": 2
}
