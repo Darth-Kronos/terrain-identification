{
 "cells": [
  {
   "cell_type": "code",
   "execution_count": 1,
   "metadata": {},
   "outputs": [],
   "source": [
    "import os\n",
    "import glob\n",
    "import numpy as np\n",
    "import pandas as pd\n",
    "from tqdm.notebook import tqdm"
   ]
  },
  {
   "cell_type": "code",
   "execution_count": 2,
   "metadata": {},
   "outputs": [],
   "source": [
    "col_names = [\"accr_x\", \"accr_y\", \"accr_z\", \"gyr_x\", \"gyr_y\", \"gyr_z\"]"
   ]
  },
  {
   "cell_type": "code",
   "execution_count": 3,
   "metadata": {},
   "outputs": [],
   "source": [
    "data_root = \"/Users/purushothamanyadav/Documents/NCSU/Spring23/NN/Project/ProjC/terrain-identification/data/TrainingData/\"\n",
    "test_root = \"/Users/purushothamanyadav/Documents/NCSU/Spring23/NN/Project/ProjC/terrain-identification/data/TestData/\"\n",
    "X_TIME = \"subject_{}_{}__x_time.csv\"\n",
    "X_DATA = \"subject_{}_{}__x.csv\"\n",
    "\n",
    "Y_TIME = \"subject_{}_{}__y_time.csv\"\n",
    "Y_DATA = \"subject_{}_{}__y.csv\""
   ]
  },
  {
   "cell_type": "code",
   "execution_count": 4,
   "metadata": {},
   "outputs": [],
   "source": [
    "# Define sequence parameters\n",
    "label_sampling_rate = 0.1\n",
    "data_sampling_rate = 0.025\n",
    "\n",
    "sequence_length = 6\n",
    "overlap = 2"
   ]
  },
  {
   "cell_type": "code",
   "execution_count": 5,
   "metadata": {},
   "outputs": [],
   "source": [
    "files_x_data = sorted(glob.glob(data_root + X_DATA.format(\"*\", \"*\")))\n",
    "files_x_time = sorted(glob.glob(data_root + X_TIME.format(\"*\", \"*\")))\n",
    "\n",
    "files_y_data = sorted(glob.glob(data_root + Y_DATA.format(\"*\", \"*\")))\n",
    "files_y_time = sorted(glob.glob(data_root + Y_TIME.format(\"*\", \"*\")))"
   ]
  },
  {
   "cell_type": "code",
   "execution_count": 6,
   "metadata": {},
   "outputs": [
    {
     "data": {
      "application/json": {
       "ascii": false,
       "bar_format": null,
       "colour": null,
       "elapsed": 0.037368059158325195,
       "initial": 0,
       "n": 0,
       "ncols": null,
       "nrows": null,
       "postfix": null,
       "prefix": "Files",
       "rate": null,
       "total": 29,
       "unit": "it",
       "unit_divisor": 1000,
       "unit_scale": false
      },
      "application/vnd.jupyter.widget-view+json": {
       "model_id": "17c61cc6fdf04d7486e6381f6d8b1c93",
       "version_major": 2,
       "version_minor": 0
      },
      "text/plain": [
       "Files:   0%|          | 0/29 [00:00<?, ?it/s]"
      ]
     },
     "metadata": {},
     "output_type": "display_data"
    },
    {
     "data": {
      "application/json": {
       "ascii": false,
       "bar_format": null,
       "colour": null,
       "elapsed": 0.019387245178222656,
       "initial": 0,
       "n": 0,
       "ncols": null,
       "nrows": null,
       "postfix": null,
       "prefix": "Creating Sequences",
       "rate": null,
       "total": 9472,
       "unit": "it",
       "unit_divisor": 1000,
       "unit_scale": false
      },
      "application/vnd.jupyter.widget-view+json": {
       "model_id": "bc987ae4675249ee822c5a9135a59dd3",
       "version_major": 2,
       "version_minor": 0
      },
      "text/plain": [
       "Creating Sequences:   0%|          | 0/9472 [00:00<?, ?it/s]"
      ]
     },
     "metadata": {},
     "output_type": "display_data"
    },
    {
     "ename": "OSError",
     "evalue": "Cannot save file into a non-existent directory: '/home/gmvincen/class_work/ece_542/terrain-identification/data/WindowedTraining'",
     "output_type": "error",
     "traceback": [
      "\u001b[0;31m---------------------------------------------------------------------------\u001b[0m",
      "\u001b[0;31mOSError\u001b[0m                                   Traceback (most recent call last)",
      "\u001b[1;32m/Users/purushothamanyadav/Documents/NCSU/Spring23/NN/Project/ProjC/terrain-identification/jupyter_notebooks/windowing.ipynb Cell 6\u001b[0m in \u001b[0;36m<cell line: 2>\u001b[0;34m()\u001b[0m\n\u001b[1;32m     <a href='vscode-notebook-cell:/Users/purushothamanyadav/Documents/NCSU/Spring23/NN/Project/ProjC/terrain-identification/jupyter_notebooks/windowing.ipynb#W5sZmlsZQ%3D%3D?line=33'>34</a>\u001b[0m     sequences \u001b[39m=\u001b[39m pd\u001b[39m.\u001b[39mconcat([sequences,seq_df], axis\u001b[39m=\u001b[39m\u001b[39m0\u001b[39m, ignore_index\u001b[39m=\u001b[39m\u001b[39mTrue\u001b[39;00m)\n\u001b[1;32m     <a href='vscode-notebook-cell:/Users/purushothamanyadav/Documents/NCSU/Spring23/NN/Project/ProjC/terrain-identification/jupyter_notebooks/windowing.ipynb#W5sZmlsZQ%3D%3D?line=35'>36</a>\u001b[0m sequences[\u001b[39m'\u001b[39m\u001b[39mtimestamp\u001b[39m\u001b[39m'\u001b[39m] \u001b[39m=\u001b[39m sequences[\u001b[39m'\u001b[39m\u001b[39mtimestamp\u001b[39m\u001b[39m'\u001b[39m]\u001b[39m.\u001b[39mastype(\u001b[39mint\u001b[39m)\n\u001b[0;32m---> <a href='vscode-notebook-cell:/Users/purushothamanyadav/Documents/NCSU/Spring23/NN/Project/ProjC/terrain-identification/jupyter_notebooks/windowing.ipynb#W5sZmlsZQ%3D%3D?line=37'>38</a>\u001b[0m sequences\u001b[39m.\u001b[39;49mto_csv(os\u001b[39m.\u001b[39;49mpath\u001b[39m.\u001b[39;49mjoin(out_dir, name\u001b[39m+\u001b[39;49m\u001b[39m\"\u001b[39;49m\u001b[39m.csv\u001b[39;49m\u001b[39m\"\u001b[39;49m), index\u001b[39m=\u001b[39;49m\u001b[39mFalse\u001b[39;49;00m)\n\u001b[1;32m     <a href='vscode-notebook-cell:/Users/purushothamanyadav/Documents/NCSU/Spring23/NN/Project/ProjC/terrain-identification/jupyter_notebooks/windowing.ipynb#W5sZmlsZQ%3D%3D?line=38'>39</a>\u001b[0m y_df\u001b[39m.\u001b[39mto_csv(os\u001b[39m.\u001b[39mpath\u001b[39m.\u001b[39mjoin(out_dir, name\u001b[39m.\u001b[39mrstrip(\u001b[39m\"\u001b[39m\u001b[39mx\u001b[39m\u001b[39m\"\u001b[39m)\u001b[39m+\u001b[39m\u001b[39m\"\u001b[39m\u001b[39my.csv\u001b[39m\u001b[39m\"\u001b[39m), index\u001b[39m=\u001b[39m\u001b[39mFalse\u001b[39;00m)\n",
      "File \u001b[0;32m~/Documents/ML/ML/lib/python3.10/site-packages/pandas/core/generic.py:3551\u001b[0m, in \u001b[0;36mNDFrame.to_csv\u001b[0;34m(self, path_or_buf, sep, na_rep, float_format, columns, header, index, index_label, mode, encoding, compression, quoting, quotechar, line_terminator, chunksize, date_format, doublequote, escapechar, decimal, errors, storage_options)\u001b[0m\n\u001b[1;32m   3540\u001b[0m df \u001b[39m=\u001b[39m \u001b[39mself\u001b[39m \u001b[39mif\u001b[39;00m \u001b[39misinstance\u001b[39m(\u001b[39mself\u001b[39m, ABCDataFrame) \u001b[39melse\u001b[39;00m \u001b[39mself\u001b[39m\u001b[39m.\u001b[39mto_frame()\n\u001b[1;32m   3542\u001b[0m formatter \u001b[39m=\u001b[39m DataFrameFormatter(\n\u001b[1;32m   3543\u001b[0m     frame\u001b[39m=\u001b[39mdf,\n\u001b[1;32m   3544\u001b[0m     header\u001b[39m=\u001b[39mheader,\n\u001b[0;32m   (...)\u001b[0m\n\u001b[1;32m   3548\u001b[0m     decimal\u001b[39m=\u001b[39mdecimal,\n\u001b[1;32m   3549\u001b[0m )\n\u001b[0;32m-> 3551\u001b[0m \u001b[39mreturn\u001b[39;00m DataFrameRenderer(formatter)\u001b[39m.\u001b[39;49mto_csv(\n\u001b[1;32m   3552\u001b[0m     path_or_buf,\n\u001b[1;32m   3553\u001b[0m     line_terminator\u001b[39m=\u001b[39;49mline_terminator,\n\u001b[1;32m   3554\u001b[0m     sep\u001b[39m=\u001b[39;49msep,\n\u001b[1;32m   3555\u001b[0m     encoding\u001b[39m=\u001b[39;49mencoding,\n\u001b[1;32m   3556\u001b[0m     errors\u001b[39m=\u001b[39;49merrors,\n\u001b[1;32m   3557\u001b[0m     compression\u001b[39m=\u001b[39;49mcompression,\n\u001b[1;32m   3558\u001b[0m     quoting\u001b[39m=\u001b[39;49mquoting,\n\u001b[1;32m   3559\u001b[0m     columns\u001b[39m=\u001b[39;49mcolumns,\n\u001b[1;32m   3560\u001b[0m     index_label\u001b[39m=\u001b[39;49mindex_label,\n\u001b[1;32m   3561\u001b[0m     mode\u001b[39m=\u001b[39;49mmode,\n\u001b[1;32m   3562\u001b[0m     chunksize\u001b[39m=\u001b[39;49mchunksize,\n\u001b[1;32m   3563\u001b[0m     quotechar\u001b[39m=\u001b[39;49mquotechar,\n\u001b[1;32m   3564\u001b[0m     date_format\u001b[39m=\u001b[39;49mdate_format,\n\u001b[1;32m   3565\u001b[0m     doublequote\u001b[39m=\u001b[39;49mdoublequote,\n\u001b[1;32m   3566\u001b[0m     escapechar\u001b[39m=\u001b[39;49mescapechar,\n\u001b[1;32m   3567\u001b[0m     storage_options\u001b[39m=\u001b[39;49mstorage_options,\n\u001b[1;32m   3568\u001b[0m )\n",
      "File \u001b[0;32m~/Documents/ML/ML/lib/python3.10/site-packages/pandas/io/formats/format.py:1180\u001b[0m, in \u001b[0;36mDataFrameRenderer.to_csv\u001b[0;34m(self, path_or_buf, encoding, sep, columns, index_label, mode, compression, quoting, quotechar, line_terminator, chunksize, date_format, doublequote, escapechar, errors, storage_options)\u001b[0m\n\u001b[1;32m   1159\u001b[0m     created_buffer \u001b[39m=\u001b[39m \u001b[39mFalse\u001b[39;00m\n\u001b[1;32m   1161\u001b[0m csv_formatter \u001b[39m=\u001b[39m CSVFormatter(\n\u001b[1;32m   1162\u001b[0m     path_or_buf\u001b[39m=\u001b[39mpath_or_buf,\n\u001b[1;32m   1163\u001b[0m     line_terminator\u001b[39m=\u001b[39mline_terminator,\n\u001b[0;32m   (...)\u001b[0m\n\u001b[1;32m   1178\u001b[0m     formatter\u001b[39m=\u001b[39m\u001b[39mself\u001b[39m\u001b[39m.\u001b[39mfmt,\n\u001b[1;32m   1179\u001b[0m )\n\u001b[0;32m-> 1180\u001b[0m csv_formatter\u001b[39m.\u001b[39;49msave()\n\u001b[1;32m   1182\u001b[0m \u001b[39mif\u001b[39;00m created_buffer:\n\u001b[1;32m   1183\u001b[0m     \u001b[39massert\u001b[39;00m \u001b[39misinstance\u001b[39m(path_or_buf, StringIO)\n",
      "File \u001b[0;32m~/Documents/ML/ML/lib/python3.10/site-packages/pandas/io/formats/csvs.py:241\u001b[0m, in \u001b[0;36mCSVFormatter.save\u001b[0;34m(self)\u001b[0m\n\u001b[1;32m    237\u001b[0m \u001b[39m\"\"\"\u001b[39;00m\n\u001b[1;32m    238\u001b[0m \u001b[39mCreate the writer & save.\u001b[39;00m\n\u001b[1;32m    239\u001b[0m \u001b[39m\"\"\"\u001b[39;00m\n\u001b[1;32m    240\u001b[0m \u001b[39m# apply compression and byte/text conversion\u001b[39;00m\n\u001b[0;32m--> 241\u001b[0m \u001b[39mwith\u001b[39;00m get_handle(\n\u001b[1;32m    242\u001b[0m     \u001b[39mself\u001b[39;49m\u001b[39m.\u001b[39;49mfilepath_or_buffer,\n\u001b[1;32m    243\u001b[0m     \u001b[39mself\u001b[39;49m\u001b[39m.\u001b[39;49mmode,\n\u001b[1;32m    244\u001b[0m     encoding\u001b[39m=\u001b[39;49m\u001b[39mself\u001b[39;49m\u001b[39m.\u001b[39;49mencoding,\n\u001b[1;32m    245\u001b[0m     errors\u001b[39m=\u001b[39;49m\u001b[39mself\u001b[39;49m\u001b[39m.\u001b[39;49merrors,\n\u001b[1;32m    246\u001b[0m     compression\u001b[39m=\u001b[39;49m\u001b[39mself\u001b[39;49m\u001b[39m.\u001b[39;49mcompression,\n\u001b[1;32m    247\u001b[0m     storage_options\u001b[39m=\u001b[39;49m\u001b[39mself\u001b[39;49m\u001b[39m.\u001b[39;49mstorage_options,\n\u001b[1;32m    248\u001b[0m ) \u001b[39mas\u001b[39;00m handles:\n\u001b[1;32m    249\u001b[0m \n\u001b[1;32m    250\u001b[0m     \u001b[39m# Note: self.encoding is irrelevant here\u001b[39;00m\n\u001b[1;32m    251\u001b[0m     \u001b[39mself\u001b[39m\u001b[39m.\u001b[39mwriter \u001b[39m=\u001b[39m csvlib\u001b[39m.\u001b[39mwriter(\n\u001b[1;32m    252\u001b[0m         handles\u001b[39m.\u001b[39mhandle,\n\u001b[1;32m    253\u001b[0m         lineterminator\u001b[39m=\u001b[39m\u001b[39mself\u001b[39m\u001b[39m.\u001b[39mline_terminator,\n\u001b[0;32m   (...)\u001b[0m\n\u001b[1;32m    258\u001b[0m         quotechar\u001b[39m=\u001b[39m\u001b[39mself\u001b[39m\u001b[39m.\u001b[39mquotechar,\n\u001b[1;32m    259\u001b[0m     )\n\u001b[1;32m    261\u001b[0m     \u001b[39mself\u001b[39m\u001b[39m.\u001b[39m_save()\n",
      "File \u001b[0;32m~/Documents/ML/ML/lib/python3.10/site-packages/pandas/io/common.py:694\u001b[0m, in \u001b[0;36mget_handle\u001b[0;34m(path_or_buf, mode, encoding, compression, memory_map, is_text, errors, storage_options)\u001b[0m\n\u001b[1;32m    692\u001b[0m \u001b[39m# Only for write methods\u001b[39;00m\n\u001b[1;32m    693\u001b[0m \u001b[39mif\u001b[39;00m \u001b[39m\"\u001b[39m\u001b[39mr\u001b[39m\u001b[39m\"\u001b[39m \u001b[39mnot\u001b[39;00m \u001b[39min\u001b[39;00m mode \u001b[39mand\u001b[39;00m is_path:\n\u001b[0;32m--> 694\u001b[0m     check_parent_directory(\u001b[39mstr\u001b[39;49m(handle))\n\u001b[1;32m    696\u001b[0m \u001b[39mif\u001b[39;00m compression:\n\u001b[1;32m    697\u001b[0m     \u001b[39mif\u001b[39;00m compression \u001b[39m!=\u001b[39m \u001b[39m\"\u001b[39m\u001b[39mzstd\u001b[39m\u001b[39m\"\u001b[39m:\n\u001b[1;32m    698\u001b[0m         \u001b[39m# compression libraries do not like an explicit text-mode\u001b[39;00m\n",
      "File \u001b[0;32m~/Documents/ML/ML/lib/python3.10/site-packages/pandas/io/common.py:568\u001b[0m, in \u001b[0;36mcheck_parent_directory\u001b[0;34m(path)\u001b[0m\n\u001b[1;32m    566\u001b[0m parent \u001b[39m=\u001b[39m Path(path)\u001b[39m.\u001b[39mparent\n\u001b[1;32m    567\u001b[0m \u001b[39mif\u001b[39;00m \u001b[39mnot\u001b[39;00m parent\u001b[39m.\u001b[39mis_dir():\n\u001b[0;32m--> 568\u001b[0m     \u001b[39mraise\u001b[39;00m \u001b[39mOSError\u001b[39;00m(\u001b[39mrf\u001b[39m\u001b[39m\"\u001b[39m\u001b[39mCannot save file into a non-existent directory: \u001b[39m\u001b[39m'\u001b[39m\u001b[39m{\u001b[39;00mparent\u001b[39m}\u001b[39;00m\u001b[39m'\u001b[39m\u001b[39m\"\u001b[39m)\n",
      "\u001b[0;31mOSError\u001b[0m: Cannot save file into a non-existent directory: '/home/gmvincen/class_work/ece_542/terrain-identification/data/WindowedTraining'"
     ]
    }
   ],
   "source": [
    "out_dir = \"/home/gmvincen/class_work/ece_542/terrain-identification/data/WindowedTraining\"\n",
    "for i in tqdm(files_x_data, total=len(files_x_data), desc=\"Files\"):\n",
    "    name = i.split(\"/\")[-1].rstrip(\".csv\")\n",
    "    \n",
    "    x_file = i\n",
    "    x_time = i.rstrip(\".csv\")+\"_time.csv\"\n",
    "    \n",
    "    y_file = i.rstrip(\"x.csv\")+\"y.csv\"\n",
    "    y_time = i.rstrip(\"x_time.csv\")+\"__y_time.csv\"\n",
    "    \n",
    "    time_df = pd.read_csv(x_time, names=['time'])\n",
    "    data_df = pd.read_csv(x_file, names=col_names)\n",
    "    label_time_df = pd.read_csv(y_time, names=['time'])\n",
    "    label_df = pd.read_csv(y_file, names=['label'])\n",
    "    \n",
    "    # Merge data and time dataframes\n",
    "    x_df = pd.concat([time_df, data_df], axis=1)\n",
    "    y_df = pd.concat([label_time_df, label_df], axis=1)\n",
    "    \n",
    "    # Create Sequences\n",
    "    sequences = pd.DataFrame(columns=col_names+['timestamp', 'time'])\n",
    "    for i in tqdm(range(0, len(x_df) - overlap, sequence_length - overlap), desc=\"Creating Sequences\"):\n",
    "        window = x_df.iloc[i:i+sequence_length, 1:]\n",
    "        \n",
    "        if window.shape[0] != sequence_length:\n",
    "            window = pd.concat([window, pd.DataFrame(np.nan, index=[0 for i in range(0, sequence_length-window.shape[0])], columns=window.columns)], ignore_index=True)\n",
    "            window = window.interpolate(method='linear')\n",
    "            \n",
    "        seq_df = pd.DataFrame(window, columns=col_names+['timestamp', 'time'])\n",
    "        timestamp = int(i/(sequence_length - overlap))\n",
    "        seq_df['timestamp'] = timestamp\n",
    "        # seq_df['time'] = y_df.loc[timestamp, 'time']\n",
    "        \n",
    "        sequences = pd.concat([sequences,seq_df], axis=0, ignore_index=True)\n",
    "        \n",
    "    sequences['timestamp'] = sequences['timestamp'].astype(int)\n",
    "    \n",
    "    # sequences.to_csv(os.path.join(out_dir, name+\".csv\"), index=False)\n",
    "    # y_df.to_csv(os.path.join(out_dir, name.rstrip(\"x\")+\"y.csv\"), index=False)"
   ]
  },
  {
   "cell_type": "code",
   "execution_count": 7,
   "metadata": {},
   "outputs": [],
   "source": [
    "files_x_data = sorted(glob.glob(test_root + X_DATA.format(\"*\", \"*\")))\n",
    "files_x_time = sorted(glob.glob(test_root + X_TIME.format(\"*\", \"*\")))\n",
    "\n",
    "files_y_time = sorted(glob.glob(test_root + Y_TIME.format(\"*\", \"*\")))"
   ]
  },
  {
   "cell_type": "code",
   "execution_count": 8,
   "metadata": {},
   "outputs": [
    {
     "data": {
      "application/vnd.jupyter.widget-view+json": {
       "model_id": "81e787f672f5425bb10857fb97ce432d",
       "version_major": 2,
       "version_minor": 0
      },
      "text/plain": [
       "Files:   0%|          | 0/4 [00:00<?, ?it/s]"
      ]
     },
     "metadata": {},
     "output_type": "display_data"
    },
    {
     "data": {
      "application/vnd.jupyter.widget-view+json": {
       "model_id": "310a0d9cf2534d069355c9fed4b52fed",
       "version_major": 2,
       "version_minor": 0
      },
      "text/plain": [
       "Creating Sequences:   0%|          | 0/9498 [00:00<?, ?it/s]"
      ]
     },
     "metadata": {},
     "output_type": "display_data"
    },
    {
     "data": {
      "application/vnd.jupyter.widget-view+json": {
       "model_id": "a07eca478533490687c9dafb419f46e2",
       "version_major": 2,
       "version_minor": 0
      },
      "text/plain": [
       "Creating Sequences:   0%|          | 0/12270 [00:00<?, ?it/s]"
      ]
     },
     "metadata": {},
     "output_type": "display_data"
    },
    {
     "data": {
      "application/vnd.jupyter.widget-view+json": {
       "model_id": "dc8375889a414e28a5f0cdcef4e23744",
       "version_major": 2,
       "version_minor": 0
      },
      "text/plain": [
       "Creating Sequences:   0%|          | 0/12940 [00:00<?, ?it/s]"
      ]
     },
     "metadata": {},
     "output_type": "display_data"
    },
    {
     "data": {
      "application/vnd.jupyter.widget-view+json": {
       "model_id": "de79f25d6cdf43da8b70ec72590f9861",
       "version_major": 2,
       "version_minor": 0
      },
      "text/plain": [
       "Creating Sequences:   0%|          | 0/11330 [00:00<?, ?it/s]"
      ]
     },
     "metadata": {},
     "output_type": "display_data"
    }
   ],
   "source": [
    "out_dir = \"/home/gmvincen/class_work/ece_542/terrain-identification/data/WindowedTest\"\n",
    "for i in tqdm(files_x_data, total=len(files_x_data), desc=\"Files\"):\n",
    "    name = i.split(\"/\")[-1].rstrip(\".csv\")\n",
    "    \n",
    "    x_file = i\n",
    "    x_time = i.rstrip(\".csv\")+\"_time.csv\"\n",
    "    \n",
    "    y_time = i.rstrip(\"x_time.csv\")+\"__y_time.csv\"\n",
    "    \n",
    "    time_df = pd.read_csv(x_time, names=['time'])\n",
    "    data_df = pd.read_csv(x_file, names=col_names)\n",
    "    label_time_df = pd.read_csv(y_time, names=['time'])\n",
    "    \n",
    "    # Merge data and time dataframes\n",
    "    x_df = pd.concat([time_df, data_df], axis=1)\n",
    "    y_df = label_time_df\n",
    "    \n",
    "    # Create Sequences\n",
    "    sequences = pd.DataFrame(columns=col_names+['timestamp', 'time'])\n",
    "    for i in tqdm(range(0, len(x_df) - overlap, sequence_length - overlap), desc=\"Creating Sequences\"):\n",
    "        window = x_df.iloc[i:i+sequence_length, 1:]\n",
    "        \n",
    "        if window.shape[0] != sequence_length:\n",
    "            window = pd.concat([window, pd.DataFrame(np.nan, index=[0 for i in range(0, sequence_length-window.shape[0])], columns=window.columns)], ignore_index=True)\n",
    "            window = window.interpolate(method='linear')\n",
    "            \n",
    "        seq_df = pd.DataFrame(window, columns=col_names+['timestamp', 'time'])\n",
    "        timestamp = int(i/(sequence_length - overlap))\n",
    "        seq_df['timestamp'] = timestamp\n",
    "        seq_df['time'] = y_df.loc[timestamp, 'time']\n",
    "        \n",
    "        sequences = pd.concat([sequences,seq_df], axis=0, ignore_index=True)\n",
    "        \n",
    "    sequences['timestamp'] = sequences['timestamp'].astype(int)\n",
    "    \n",
    "    sequences.to_csv(os.path.join(out_dir, name+\".csv\"), index=False)\n",
    "    y_df.to_csv(os.path.join(out_dir, name.rstrip(\"x\")+\"y.csv\"), index=False)"
   ]
  },
  {
   "cell_type": "code",
   "execution_count": null,
   "metadata": {},
   "outputs": [],
   "source": []
  }
 ],
 "metadata": {
  "kernelspec": {
   "display_name": "542_env",
   "language": "python",
   "name": "python3"
  },
  "language_info": {
   "codemirror_mode": {
    "name": "ipython",
    "version": 3
   },
   "file_extension": ".py",
   "mimetype": "text/x-python",
   "name": "python",
   "nbconvert_exporter": "python",
   "pygments_lexer": "ipython3",
   "version": "3.10.11"
  },
  "orig_nbformat": 4
 },
 "nbformat": 4,
 "nbformat_minor": 2
}
