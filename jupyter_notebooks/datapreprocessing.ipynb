{
 "cells": [
  {
   "cell_type": "code",
   "execution_count": 10,
   "metadata": {},
   "outputs": [],
   "source": [
    "import os\n",
    "import glob\n",
    "import numpy as np\n",
    "import pandas as pd\n",
    "\n",
    "import seaborn as sns\n",
    "import matplotlib.pyplot as plt"
   ]
  },
  {
   "cell_type": "code",
   "execution_count": 2,
   "metadata": {},
   "outputs": [],
   "source": [
    "def downsample(x, y, win_len=0.1):\n",
    "    agg_x = pd.DataFrame()\n",
    "    for center in y['time']:\n",
    "        window_start = center - win_len/2\n",
    "        window_end = center + win_len/2\n",
    "        windowed_signal = x[(x[\"time\"] > window_start) & (x[\"time\"] < window_end)][['accr_x', 'accr_y','accr_z','gyr_x','gyr_y','gyr_z']]\n",
    "        aggregate_data = windowed_signal.mean().to_frame().T\n",
    "        aggregate_data['time'] =  center\n",
    "        agg_x = pd.concat([agg_x, aggregate_data], axis=0)\n",
    "    \n",
    "    return pd.concat([agg_x.reset_index(drop=True), y['label']], axis=1)\n",
    "        "
   ]
  },
  {
   "cell_type": "code",
   "execution_count": 3,
   "metadata": {},
   "outputs": [],
   "source": [
    "data_root = 'data/TrainingData/'\n",
    "X_TIME = 'subject_{}_{}__x_time.csv'\n",
    "X_DATA = 'subject_{}_{}__x.csv'\n",
    "\n",
    "Y_TIME = 'subject_{}_{}__y_time.csv'\n",
    "Y_DATA = 'subject_{}_{}__y.csv'"
   ]
  },
  {
   "cell_type": "markdown",
   "metadata": {},
   "source": []
  },
  {
   "cell_type": "code",
   "execution_count": 4,
   "metadata": {},
   "outputs": [],
   "source": [
    "files_x_data = sorted(glob.glob(data_root+X_DATA.format('*', '*')))\n",
    "files_x_time = sorted(glob.glob(data_root+X_TIME.format('*', '*')))\n",
    "\n",
    "files_y_data = sorted(glob.glob(data_root+Y_DATA.format('*', '*')))\n",
    "files_y_time = sorted(glob.glob(data_root+Y_TIME.format('*', '*')))"
   ]
  },
  {
   "cell_type": "code",
   "execution_count": 5,
   "metadata": {},
   "outputs": [],
   "source": [
    "merged_data = pd.DataFrame()"
   ]
  },
  {
   "cell_type": "code",
   "execution_count": 6,
   "metadata": {},
   "outputs": [],
   "source": [
    "for i in range(len(files_x_data)):\n",
    "    y_data = pd.read_csv(files_y_data[i], names=['label'])\n",
    "    y_time = pd.read_csv(files_y_time[i], names=['time'])\n",
    "\n",
    "    x_data = pd.read_csv(files_x_data[i], names=['accr_x', 'accr_y','accr_z','gyr_x','gyr_y','gyr_z'])\n",
    "    x_time = pd.read_csv(files_x_time[i], names=['time'])\n",
    "\n",
    "    x_data = pd.concat([x_data, x_time], axis=1)\n",
    "    y_data = pd.concat([y_data, y_time], axis=1)\n",
    "     \n",
    "    dwn_smp = downsample(x_data, y_data)\n",
    "    \n",
    "    merged_data = pd.concat([merged_data, dwn_smp], axis=0).reset_index(drop=True)"
   ]
  },
  {
   "cell_type": "code",
   "execution_count": 7,
   "metadata": {},
   "outputs": [],
   "source": [
    "merged_data.to_csv('data/merged_data.csv', index=False)"
   ]
  },
  {
   "cell_type": "code",
   "execution_count": 8,
   "metadata": {},
   "outputs": [
    {
     "data": {
      "text/html": [
       "<div>\n",
       "<style scoped>\n",
       "    .dataframe tbody tr th:only-of-type {\n",
       "        vertical-align: middle;\n",
       "    }\n",
       "\n",
       "    .dataframe tbody tr th {\n",
       "        vertical-align: top;\n",
       "    }\n",
       "\n",
       "    .dataframe thead th {\n",
       "        text-align: right;\n",
       "    }\n",
       "</style>\n",
       "<table border=\"1\" class=\"dataframe\">\n",
       "  <thead>\n",
       "    <tr style=\"text-align: right;\">\n",
       "      <th></th>\n",
       "      <th>accr_x</th>\n",
       "      <th>accr_y</th>\n",
       "      <th>accr_z</th>\n",
       "      <th>gyr_x</th>\n",
       "      <th>gyr_y</th>\n",
       "      <th>gyr_z</th>\n",
       "      <th>time</th>\n",
       "      <th>label</th>\n",
       "    </tr>\n",
       "  </thead>\n",
       "  <tbody>\n",
       "    <tr>\n",
       "      <th>0</th>\n",
       "      <td>4.388944</td>\n",
       "      <td>8.316392</td>\n",
       "      <td>2.924182</td>\n",
       "      <td>0.009318</td>\n",
       "      <td>-0.007075</td>\n",
       "      <td>-0.006310</td>\n",
       "      <td>0.02</td>\n",
       "      <td>0</td>\n",
       "    </tr>\n",
       "    <tr>\n",
       "      <th>1</th>\n",
       "      <td>4.529269</td>\n",
       "      <td>8.300603</td>\n",
       "      <td>2.864103</td>\n",
       "      <td>0.019093</td>\n",
       "      <td>-0.006738</td>\n",
       "      <td>-0.015814</td>\n",
       "      <td>0.12</td>\n",
       "      <td>0</td>\n",
       "    </tr>\n",
       "    <tr>\n",
       "      <th>2</th>\n",
       "      <td>4.384618</td>\n",
       "      <td>8.271196</td>\n",
       "      <td>2.815419</td>\n",
       "      <td>0.005650</td>\n",
       "      <td>-0.005385</td>\n",
       "      <td>0.002084</td>\n",
       "      <td>0.22</td>\n",
       "      <td>0</td>\n",
       "    </tr>\n",
       "    <tr>\n",
       "      <th>3</th>\n",
       "      <td>4.292464</td>\n",
       "      <td>8.297531</td>\n",
       "      <td>2.879079</td>\n",
       "      <td>-0.007969</td>\n",
       "      <td>-0.000011</td>\n",
       "      <td>0.030451</td>\n",
       "      <td>0.32</td>\n",
       "      <td>0</td>\n",
       "    </tr>\n",
       "    <tr>\n",
       "      <th>4</th>\n",
       "      <td>4.641532</td>\n",
       "      <td>8.214385</td>\n",
       "      <td>2.838722</td>\n",
       "      <td>-0.006726</td>\n",
       "      <td>0.026572</td>\n",
       "      <td>0.034118</td>\n",
       "      <td>0.42</td>\n",
       "      <td>0</td>\n",
       "    </tr>\n",
       "    <tr>\n",
       "      <th>...</th>\n",
       "      <td>...</td>\n",
       "      <td>...</td>\n",
       "      <td>...</td>\n",
       "      <td>...</td>\n",
       "      <td>...</td>\n",
       "      <td>...</td>\n",
       "      <td>...</td>\n",
       "      <td>...</td>\n",
       "    </tr>\n",
       "    <tr>\n",
       "      <th>335408</th>\n",
       "      <td>2.078699</td>\n",
       "      <td>8.903487</td>\n",
       "      <td>-3.528549</td>\n",
       "      <td>0.000499</td>\n",
       "      <td>-0.001056</td>\n",
       "      <td>0.000869</td>\n",
       "      <td>1203.02</td>\n",
       "      <td>0</td>\n",
       "    </tr>\n",
       "    <tr>\n",
       "      <th>335409</th>\n",
       "      <td>2.079810</td>\n",
       "      <td>8.906356</td>\n",
       "      <td>-3.519708</td>\n",
       "      <td>-0.000825</td>\n",
       "      <td>-0.002050</td>\n",
       "      <td>-0.001826</td>\n",
       "      <td>1203.12</td>\n",
       "      <td>0</td>\n",
       "    </tr>\n",
       "    <tr>\n",
       "      <th>335410</th>\n",
       "      <td>2.073104</td>\n",
       "      <td>8.901815</td>\n",
       "      <td>-3.510352</td>\n",
       "      <td>-0.001766</td>\n",
       "      <td>0.001342</td>\n",
       "      <td>-0.000325</td>\n",
       "      <td>1203.22</td>\n",
       "      <td>0</td>\n",
       "    </tr>\n",
       "    <tr>\n",
       "      <th>335411</th>\n",
       "      <td>2.089679</td>\n",
       "      <td>8.904350</td>\n",
       "      <td>-3.508587</td>\n",
       "      <td>0.001214</td>\n",
       "      <td>0.000920</td>\n",
       "      <td>0.000980</td>\n",
       "      <td>1203.32</td>\n",
       "      <td>0</td>\n",
       "    </tr>\n",
       "    <tr>\n",
       "      <th>335412</th>\n",
       "      <td>2.094317</td>\n",
       "      <td>8.906184</td>\n",
       "      <td>-3.531190</td>\n",
       "      <td>-0.000593</td>\n",
       "      <td>-0.002346</td>\n",
       "      <td>0.000966</td>\n",
       "      <td>1203.42</td>\n",
       "      <td>0</td>\n",
       "    </tr>\n",
       "  </tbody>\n",
       "</table>\n",
       "<p>335413 rows × 8 columns</p>\n",
       "</div>"
      ],
      "text/plain": [
       "          accr_x    accr_y    accr_z     gyr_x     gyr_y     gyr_z     time  \\\n",
       "0       4.388944  8.316392  2.924182  0.009318 -0.007075 -0.006310     0.02   \n",
       "1       4.529269  8.300603  2.864103  0.019093 -0.006738 -0.015814     0.12   \n",
       "2       4.384618  8.271196  2.815419  0.005650 -0.005385  0.002084     0.22   \n",
       "3       4.292464  8.297531  2.879079 -0.007969 -0.000011  0.030451     0.32   \n",
       "4       4.641532  8.214385  2.838722 -0.006726  0.026572  0.034118     0.42   \n",
       "...          ...       ...       ...       ...       ...       ...      ...   \n",
       "335408  2.078699  8.903487 -3.528549  0.000499 -0.001056  0.000869  1203.02   \n",
       "335409  2.079810  8.906356 -3.519708 -0.000825 -0.002050 -0.001826  1203.12   \n",
       "335410  2.073104  8.901815 -3.510352 -0.001766  0.001342 -0.000325  1203.22   \n",
       "335411  2.089679  8.904350 -3.508587  0.001214  0.000920  0.000980  1203.32   \n",
       "335412  2.094317  8.906184 -3.531190 -0.000593 -0.002346  0.000966  1203.42   \n",
       "\n",
       "        label  \n",
       "0           0  \n",
       "1           0  \n",
       "2           0  \n",
       "3           0  \n",
       "4           0  \n",
       "...       ...  \n",
       "335408      0  \n",
       "335409      0  \n",
       "335410      0  \n",
       "335411      0  \n",
       "335412      0  \n",
       "\n",
       "[335413 rows x 8 columns]"
      ]
     },
     "execution_count": 8,
     "metadata": {},
     "output_type": "execute_result"
    }
   ],
   "source": [
    "merged_data"
   ]
  },
  {
   "cell_type": "code",
   "execution_count": 12,
   "metadata": {},
   "outputs": [],
   "source": [
    "class_names = {0: \"Solid Ground\",\n",
    "               1: \"Downstairs\",\n",
    "               2: \"Upstairs\",\n",
    "               3: \"Grass\",\n",
    "}"
   ]
  },
  {
   "cell_type": "code",
   "execution_count": 21,
   "metadata": {},
   "outputs": [
    {
     "data": {
      "image/png": "[encoded data removed]",
      "text/plain": [
       "<Figure size 640x480 with 1 Axes>"
      ]
     },
     "metadata": {},
     "output_type": "display_data"
    }
   ],
   "source": [
    "sns.countplot(x='label', data=merged_data)\n",
    "plt.xticks(ticks=list(class_names.keys()), labels=list(class_names.values()))\n",
    "plt.xlabel(\"Terrain Type\")\n",
    "plt.ylabel(\"Count\")\n",
    "plt.show()"
   ]
  },
  {
   "cell_type": "code",
   "execution_count": null,
   "metadata": {},
   "outputs": [],
   "source": []
  }
 ],
 "metadata": {
  "kernelspec": {
   "display_name": "ML",
   "language": "python",
   "name": "python3"
  },
  "language_info": {
   "codemirror_mode": {
    "name": "ipython",
    "version": 3
   },
   "file_extension": ".py",
   "mimetype": "text/x-python",
   "name": "python",
   "nbconvert_exporter": "python",
   "pygments_lexer": "ipython3",
   "version": "3.10.8"
  },
  "orig_nbformat": 4
 },
 "nbformat": 4,
 "nbformat_minor": 2
}
