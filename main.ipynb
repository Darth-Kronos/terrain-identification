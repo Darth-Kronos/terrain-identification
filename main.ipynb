{
 "cells": [
  {
   "cell_type": "code",
   "execution_count": 1,
   "metadata": {},
   "outputs": [],
   "source": [
    "import torch\n",
    "import torch.nn as nn\n",
    "import torch.optim as optim\n",
    "from torch.nn.functional import one_hot\n",
    "from torch.optim.lr_scheduler import ReduceLROnPlateau\n",
    "import os\n",
    "import numpy as np\n",
    "\n",
    "from dataloader import train_dataloader, val_dataloader, SubjectDataset, train_dataset\n",
    "from model import BRNN, OneDConvNet\n",
    "from torch.utils.data import Dataset, DataLoader"
   ]
  },
  {
   "cell_type": "code",
   "execution_count": 2,
   "metadata": {},
   "outputs": [],
   "source": [
    "from torch.nn import functional as F"
   ]
  },
  {
   "cell_type": "code",
   "execution_count": 3,
   "metadata": {},
   "outputs": [],
   "source": [
    "device = torch.device('cuda' if torch.cuda.is_available() else 'cpu')\n",
    "input_size = 6\n",
    "num_classes = 4\n",
    "learning_rate = 0.0001\n",
    "batch_size = 128\n",
    "num_epochs = 40"
   ]
  },
  {
   "cell_type": "code",
   "execution_count": 4,
   "metadata": {},
   "outputs": [],
   "source": [
    "def accuracy_fn(y_true, y_pred):\n",
    "    correct = torch.eq(y_true, y_pred).sum().item()\n",
    "    acc = (correct / len(y_pred)) * 100\n",
    "    return acc\n",
    "\n",
    "def train_step(X, y, model, optimizer, criterion):\n",
    "    y = F.one_hot(y, 4).float()\n",
    "    y_pred = model(X)\n",
    "    predicted_classes = torch.argmax(y_pred.detach(), dim=1)\n",
    "\n",
    "    loss = criterion(y_pred, y)\n",
    "    optimizer.zero_grad()\n",
    "    loss.backward()\n",
    "    optimizer.step()\n",
    "\n",
    "    corrects = accuracy_fn(y.argmax(dim=1), y_pred.argmax(dim=1))\n",
    "\n",
    "    return loss.item(), corrects\n",
    "\n",
    "def val_step(X, y, model, criterion):\n",
    "\n",
    "    with torch.no_grad():\n",
    "        y = F.one_hot(y, 4).float()\n",
    "        y_pred = model(X)\n",
    "        predicted_classes = torch.argmax(y_pred.detach(), dim=1)\n",
    "        loss = criterion(y_pred, y)\n",
    "        corrects = accuracy_fn(y.argmax(dim=1), y_pred.argmax(dim=1))\n",
    "\n",
    "    return loss.item(), corrects, predicted_classes.detach().cpu().numpy()"
   ]
  },
  {
   "cell_type": "markdown",
   "metadata": {},
   "source": []
  },
  {
   "cell_type": "code",
   "execution_count": 7,
   "metadata": {},
   "outputs": [],
   "source": [
    "model = OneDConvNet(input_size, num_classes, 8, 120).to(device)\n",
    "criterion = nn.CrossEntropyLoss()\n",
    "optimizer = optim.Adam(model.parameters(), lr = learning_rate)\n",
    "scheduler = ReduceLROnPlateau(optimizer, factor=0.5, patience=1, verbose=True)"
   ]
  },
  {
   "cell_type": "code",
   "execution_count": null,
   "metadata": {},
   "outputs": [],
   "source": [
    "best_val_loss = 10000000\n",
    "for epoch in range(num_epochs):\n",
    "    # Train for \"n\" number of iterations\n",
    "    running_loss = 0.\n",
    "    running_acc = 0.\n",
    "    for iteration, (X, y) in enumerate(train_dataloader):\n",
    "\n",
    "        X = X.float().to(device)\n",
    "        y = y.to(device)\n",
    "\n",
    "        loss, corrects = train_step(X, y, model, optimizer, criterion)\n",
    "\n",
    "        # Running metrics\n",
    "        running_loss = running_loss + loss \n",
    "        running_acc = running_acc + corrects\n",
    "\n",
    "        \n",
    "\n",
    "    train_loss = running_loss / len(train_dataloader)\n",
    "    train_acc = running_acc / len(train_dataloader)\n",
    "\n",
    "    # Validate\n",
    "    running_val_loss = 0.\n",
    "    running_val_acc = 0.\n",
    "    for step, (X, y) in enumerate(val_dataloader):\n",
    "\n",
    "        X = X.float().to(device)\n",
    "        y = y.to(device)\n",
    "\n",
    "        loss, corrects, predicted_classes = val_step(X, y, model, criterion)\n",
    "        # Running metrics\n",
    "        running_val_loss = running_val_loss + loss\n",
    "        running_val_acc = running_val_acc + corrects\n",
    "\n",
    "    val_loss = running_val_loss / len(val_dataloader)\n",
    "    val_acc = running_val_acc / len(val_dataloader)\n",
    "\n",
    "    scheduler.step(val_loss)\n",
    "\n",
    "    if val_loss < best_val_loss:\n",
    "        # Checkpoint model\n",
    "        path = \"checkpoint_model_lstm_filtered_run_1.pth\"\n",
    "        print(f\"Saving model to {path}\")\n",
    "        torch.save(model.state_dict(), path)\n",
    "        best_val_loss = val_loss\n",
    "\n",
    "    print(f\"Epoch: {epoch} | train_loss {train_loss} | train_acc: {train_acc} | val_loss: {val_loss} | val_acc: {val_acc}\")"
   ]
  },
  {
   "cell_type": "code",
   "execution_count": 69,
   "metadata": {},
   "outputs": [],
   "source": [
    "import pandas as pd\n",
    "FILENAME_TEMPLATE = \"subject_{}_{}__y.csv\""
   ]
  },
  {
   "cell_type": "code",
   "execution_count": 70,
   "metadata": {},
   "outputs": [],
   "source": [
    "save_dir = \"terrain-identification/predictions/C3.2/\""
   ]
  },
  {
   "cell_type": "code",
   "execution_count": 65,
   "metadata": {},
   "outputs": [],
   "source": [
    "test_data_path = \"terrain-identification/data/TestData/window_3\"\n",
    "split_ids = [\"009_01\", \"010_01\", \"011_01\", \"012_01\"]\n",
    "batch_size = 128\n",
    "model.eval()\n",
    "for id in split_ids:\n",
    "\n",
    "    test_dataset = SubjectDataset(\n",
    "        test_data_path, \n",
    "        [id]\n",
    "    )\n",
    "    test_dataloader = DataLoader(test_dataset, batch_size=batch_size, shuffle=False)\n",
    "\n",
    "    output = []\n",
    "\n",
    "    for (X, y) in test_dataloader:\n",
    "\n",
    "        X = X.float().to(device)\n",
    "        \n",
    "\n",
    "        X = torch.transpose(X, 1, 2)\n",
    "        if X.shape[0] != 128:\n",
    "            X = torch.cat((X, torch.zeros((128-X.shape[0], 120, 6)).to(device)), dim=0)\n",
    "        y_pred = model(X)\n",
    "        \n",
    "\n",
    "       \n",
    "        predicted_classes = torch.argmax(y_pred, dim=1).detach().cpu().numpy()\n",
    "\n",
    "        output.append(predicted_classes)\n",
    "\n",
    "    _output = np.concatenate(output, axis=0)\n",
    "\n",
    "    df = pd.DataFrame({\"label\": _output})\n",
    "\n",
    "    subject_id, session_id = id.split(\"_\")\n",
    "\n",
    "    filename = FILENAME_TEMPLATE.format(subject_id, session_id)\n",
    "    df.to_csv(os.path.join(save_dir, filename), header=False, index=False)"
   ]
  },
  {
   "cell_type": "code",
   "execution_count": null,
   "metadata": {},
   "outputs": [],
   "source": []
  }
 ],
 "metadata": {
  "kernelspec": {
   "display_name": "ML",
   "language": "python",
   "name": "python3"
  },
  "language_info": {
   "codemirror_mode": {
    "name": "ipython",
    "version": 3
   },
   "file_extension": ".py",
   "mimetype": "text/x-python",
   "name": "python",
   "nbconvert_exporter": "python",
   "pygments_lexer": "ipython3",
   "version": "3.10.11"
  },
  "orig_nbformat": 4
 },
 "nbformat": 4,
 "nbformat_minor": 2
}
