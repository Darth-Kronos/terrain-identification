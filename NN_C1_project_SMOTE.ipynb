{
  "nbformat": 4,
  "nbformat_minor": 0,
  "metadata": {
    "colab": {
      "provenance": []
    },
    "kernelspec": {
      "name": "python3",
      "display_name": "Python 3"
    },
    "language_info": {
      "name": "python"
    },
    "accelerator": "GPU",
    "gpuClass": "standard"
  },
  "cells": [
    {
      "cell_type": "code",
      "execution_count": 1,
      "metadata": {
        "colab": {
          "base_uri": "https://localhost:8080/"
        },
        "id": "lxsZMBagnpvE",
        "outputId": "cc832cc9-ca30-4a2e-823e-d6004ac13c66"
      },
      "outputs": [
        {
          "output_type": "stream",
          "name": "stdout",
          "text": [
            "/content/drive/MyDrive/TrainingData\n"
          ]
        }
      ],
      "source": [
        "%cd '/content/drive/MyDrive/TrainingData'"
      ]
    },
    {
      "cell_type": "code",
      "source": [
        "import pandas as pd\n",
        "import numpy as np\n",
        "import glob\n",
        "import os\n",
        "import imblearn\n",
        "from sklearn.model_selection import train_test_split"
      ],
      "metadata": {
        "id": "Adqg-kiQpG38"
      },
      "execution_count": 2,
      "outputs": []
    },
    {
      "cell_type": "code",
      "source": [
        "def downsample(x, y, win_len=0.1):\n",
        "    agg_x = pd.DataFrame()\n",
        "    for center in y['time']:\n",
        "        window_start = center - win_len/2\n",
        "        window_end = center + win_len/2\n",
        "        windowed_signal = x[(x[\"time\"] > window_start) & (x[\"time\"] < window_end)][['accr_x', 'accr_y','accr_z','gyr_x','gyr_y','gyr_z']]\n",
        "        aggregate_data = windowed_signal.mean().to_frame().T\n",
        "        aggregate_data['time'] =  center\n",
        "        agg_x = pd.concat([agg_x, aggregate_data], axis=0)\n",
        "    \n",
        "    return pd.concat([agg_x.reset_index(drop=True), y['label']], axis=1)"
      ],
      "metadata": {
        "id": "cYHVqUU7pQHx"
      },
      "execution_count": 3,
      "outputs": []
    },
    {
      "cell_type": "code",
      "source": [
        "# data_root = ''\n",
        "# X_TIME = 'subject_{}_{}__x_time.csv'\n",
        "# X_DATA = 'subject_{}_{}__x.csv'\n",
        "\n",
        "# Y_TIME = 'subject_{}_{}__y_time.csv'\n",
        "# Y_DATA = 'subject_{}_{}__y.csv'"
      ],
      "metadata": {
        "id": "7IiupP3jpVz8"
      },
      "execution_count": 4,
      "outputs": []
    },
    {
      "cell_type": "code",
      "source": [
        "# files_x_data = sorted(glob.glob(data_root+X_DATA.format('*', '*')))\n",
        "# files_x_time = sorted(glob.glob(data_root+X_TIME.format('*', '*')))\n",
        "\n",
        "# files_y_data = sorted(glob.glob(data_root+Y_DATA.format('*', '*')))\n",
        "# files_y_time = sorted(glob.glob(data_root+Y_TIME.format('*', '*')))"
      ],
      "metadata": {
        "id": "3DdMQ5HWpYBF"
      },
      "execution_count": 5,
      "outputs": []
    },
    {
      "cell_type": "code",
      "source": [
        "# merged_data = pd.DataFrame()"
      ],
      "metadata": {
        "id": "qszHuTLTpa6a"
      },
      "execution_count": 6,
      "outputs": []
    },
    {
      "cell_type": "code",
      "source": [
        "# for i in range(len(files_x_data)):\n",
        "#     y_data = pd.read_csv(files_y_data[i], names=['label'])\n",
        "#     y_time = pd.read_csv(files_y_time[i], names=['time'])\n",
        "\n",
        "#     x_data = pd.read_csv(files_x_data[i], names=['accr_x', 'accr_y','accr_z','gyr_x','gyr_y','gyr_z'])\n",
        "#     x_time = pd.read_csv(files_x_time[i], names=['time'])\n",
        "\n",
        "#     x_data = pd.concat([x_data, x_time], axis=1)\n",
        "#     y_data = pd.concat([y_data, y_time], axis=1)\n",
        "     \n",
        "#     dwn_smp = downsample(x_data, y_data)\n",
        "    \n",
        "#     merged_data = pd.concat([merged_data, dwn_smp], axis=0).reset_index(drop=True)"
      ],
      "metadata": {
        "id": "kSs0TsiMpdAy"
      },
      "execution_count": 7,
      "outputs": []
    },
    {
      "cell_type": "code",
      "source": [
        "# merged_data.to_csv('merged_data.csv', index=False)"
      ],
      "metadata": {
        "id": "yTs2R39MpjvJ"
      },
      "execution_count": 8,
      "outputs": []
    },
    {
      "cell_type": "code",
      "source": [
        "merged_data = pd.read_csv('merged_data.csv')\n",
        "X = merged_data[['accr_x','accr_y','accr_z','gyr_x','gyr_y','gyr_z','time']]\n",
        "Y = merged_data[['label']]"
      ],
      "metadata": {
        "id": "W4taSmtpzA5B"
      },
      "execution_count": 9,
      "outputs": []
    },
    {
      "cell_type": "code",
      "source": [
        "from imblearn.over_sampling import SMOTE\n",
        "oversample = SMOTE()\n",
        "Xtrain, Ytrain = oversample.fit_resample(X, Y)"
      ],
      "metadata": {
        "id": "Pk9Xn5ByvaH9"
      },
      "execution_count": 10,
      "outputs": []
    },
    {
      "cell_type": "code",
      "source": [
        "print(Y.value_counts(normalize=True),'\\n')\n",
        "print(Ytrain.value_counts(normalize=True))\n",
        "print(len(Y))\n",
        "print(len(Ytrain))"
      ],
      "metadata": {
        "colab": {
          "base_uri": "https://localhost:8080/"
        },
        "id": "PKEkXBHU-ADJ",
        "outputId": "abfb4caa-4f04-483a-950d-61d66f48b8f9"
      },
      "execution_count": 11,
      "outputs": [
        {
          "output_type": "stream",
          "name": "stdout",
          "text": [
            "label\n",
            "0        0.750517\n",
            "3        0.153867\n",
            "2        0.054461\n",
            "1        0.041155\n",
            "dtype: float64 \n",
            "\n",
            "label\n",
            "0        0.25\n",
            "1        0.25\n",
            "2        0.25\n",
            "3        0.25\n",
            "dtype: float64\n",
            "335413\n",
            "1006932\n"
          ]
        }
      ]
    },
    {
      "cell_type": "code",
      "source": [
        "from sklearn.ensemble import RandomForestClassifier\n",
        "from sklearn.metrics import accuracy_score, confusion_matrix, precision_score, recall_score, ConfusionMatrixDisplay\n",
        "from sklearn.model_selection import RandomizedSearchCV, train_test_split\n",
        "\n",
        "X_train, X_valid, Y_train, Y_valid = train_test_split(Xtrain, Ytrain, test_size=0.2)\n",
        "rf = RandomForestClassifier()\n",
        "rf.fit(X_train, Y_train)\n",
        "\n",
        "Y_pred = rf.predict(X_valid)"
      ],
      "metadata": {
        "colab": {
          "base_uri": "https://localhost:8080/"
        },
        "id": "rDA8jkM7CSsW",
        "outputId": "99bb5c4b-6f7f-41ff-c516-c1e2f1528b28"
      },
      "execution_count": 12,
      "outputs": [
        {
          "output_type": "stream",
          "name": "stderr",
          "text": [
            "<ipython-input-12-1ce1c3c0b0eb>:7: DataConversionWarning: A column-vector y was passed when a 1d array was expected. Please change the shape of y to (n_samples,), for example using ravel().\n",
            "  rf.fit(X_train, Y_train)\n"
          ]
        }
      ]
    },
    {
      "cell_type": "code",
      "source": [
        "valid_accuracy = accuracy_score(Y_valid, Y_pred)\n",
        "print(\"Valid Accuracy:\", valid_accuracy)"
      ],
      "metadata": {
        "colab": {
          "base_uri": "https://localhost:8080/"
        },
        "id": "I-YGBKZBDicW",
        "outputId": "aaf6d87a-0d36-43d4-dede-673f2a31a884"
      },
      "execution_count": 13,
      "outputs": [
        {
          "output_type": "stream",
          "name": "stdout",
          "text": [
            "Valid Accuracy: 0.9122684185175806\n"
          ]
        }
      ]
    },
    {
      "cell_type": "code",
      "source": [
        "Y_pred_train = rf.predict(X_train)\n",
        "train_accuracy = accuracy_score(Y_train, Y_pred_train)\n",
        "print(\"Train Accuracy:\", train_accuracy)"
      ],
      "metadata": {
        "colab": {
          "base_uri": "https://localhost:8080/"
        },
        "id": "NvwXSdk7IURY",
        "outputId": "811db385-d625-47e9-90be-a82f7c32f968"
      },
      "execution_count": 14,
      "outputs": [
        {
          "output_type": "stream",
          "name": "stdout",
          "text": [
            "Train Accuracy: 0.9999975172088462\n"
          ]
        }
      ]
    },
    {
      "cell_type": "code",
      "source": [
        "cm = confusion_matrix(Y_valid, Y_pred)\n",
        "\n",
        "ConfusionMatrixDisplay(confusion_matrix=cm).plot();"
      ],
      "metadata": {
        "colab": {
          "base_uri": "https://localhost:8080/",
          "height": 449
        },
        "id": "ZJtwulidELdH",
        "outputId": "2cf752af-8286-4f47-9732-6a3a84796a73"
      },
      "execution_count": 15,
      "outputs": [
        {
          "output_type": "display_data",
          "data": {
            "text/plain": [
              "<Figure size 640x480 with 2 Axes>"
            ],
            "image/png": "[encoded data removed]"
          },
          "metadata": {}
        }
      ]
    },
    {
      "cell_type": "code",
      "source": [
        "# precision = precision_score(Y_valid, Y_pred)\n",
        "# print(\"Precision:\", precision)\n",
        "# recall = recall_score(Y_valid, Y_pred)\n",
        "# print(\"Recall:\", recall)\n",
        "\n",
        "from sklearn.metrics import f1_score\n",
        "score = f1_score(Y_valid, Y_pred, average=\"macro\")\n",
        "print(\"Macro F1-Score: \", score)\n",
        "\n",
        "score = f1_score(Y_valid, Y_pred, average=\"micro\")\n",
        "print(\"Micro F1-Score: \", score)\n",
        "\n",
        "score = f1_score(Y_valid, Y_pred, average=\"weighted\")\n",
        "print(\"Weighted F1-Score: \", score)"
      ],
      "metadata": {
        "colab": {
          "base_uri": "https://localhost:8080/"
        },
        "id": "pQXbbIToGB9Y",
        "outputId": "7516a688-5366-442d-a910-93eebf5301a5"
      },
      "execution_count": 16,
      "outputs": [
        {
          "output_type": "stream",
          "name": "stdout",
          "text": [
            "Macro F1-Score:  0.9109682784321647\n",
            "Micro F1-Score:  0.9122684185175806\n",
            "Weighted F1-Score:  0.9111189254990097\n"
          ]
        }
      ]
    },
    {
      "cell_type": "code",
      "source": [
        "%cd '/content/drive/MyDrive/TestData'"
      ],
      "metadata": {
        "colab": {
          "base_uri": "https://localhost:8080/"
        },
        "id": "jrpwknluJsRW",
        "outputId": "787d4b80-c885-47b2-8c98-4d1be60bca73"
      },
      "execution_count": 17,
      "outputs": [
        {
          "output_type": "stream",
          "name": "stdout",
          "text": [
            "/content/drive/MyDrive/TestData\n"
          ]
        }
      ]
    },
    {
      "cell_type": "code",
      "source": [
        "data_root = ''\n",
        "X_TIME = 'subject_012_01__x_time.csv'\n",
        "X_DATA = 'subject_012_01__x.csv'\n",
        "\n",
        "Y_TIME = 'subject_012_01__y_time.csv'\n",
        "Y_DATA = 'subject_012_01__y.csv'"
      ],
      "metadata": {
        "id": "swkGRUKIKQEQ"
      },
      "execution_count": 41,
      "outputs": []
    },
    {
      "cell_type": "code",
      "source": [
        "files_x_data = sorted(glob.glob(data_root+X_DATA.format('*', '*')))\n",
        "files_x_time = sorted(glob.glob(data_root+X_TIME.format('*', '*')))\n",
        "files_y_time = sorted(glob.glob(data_root+Y_TIME.format('*', '*')))"
      ],
      "metadata": {
        "id": "gtbeHBb4KSgc"
      },
      "execution_count": 42,
      "outputs": []
    },
    {
      "cell_type": "code",
      "source": [
        "def test_downsample(x, y, win_len=0.1):\n",
        "    agg_x = pd.DataFrame()\n",
        "    for center in y['time']:\n",
        "        window_start = center - win_len/2\n",
        "        window_end = center + win_len/2\n",
        "        windowed_signal = x[(x[\"time\"] > window_start) & (x[\"time\"] < window_end)][['accr_x', 'accr_y','accr_z','gyr_x','gyr_y','gyr_z']]\n",
        "        aggregate_data = windowed_signal.mean().to_frame().T\n",
        "        aggregate_data['time'] =  center\n",
        "        agg_x = pd.concat([agg_x, aggregate_data], axis=0)\n",
        "    return agg_x"
      ],
      "metadata": {
        "id": "ljc6uvTOLnp-"
      },
      "execution_count": 43,
      "outputs": []
    },
    {
      "cell_type": "code",
      "source": [
        "for i in range(len(files_x_data)):\n",
        "    \n",
        "    y_time = pd.read_csv(files_y_time[i], names=['time'])\n",
        "\n",
        "    x_data = pd.read_csv(files_x_data[i], names=['accr_x', 'accr_y','accr_z','gyr_x','gyr_y','gyr_z'])\n",
        "    x_time = pd.read_csv(files_x_time[i], names=['time'])\n",
        "\n",
        "    x_data = pd.concat([x_data, x_time], axis=1)\n",
        "         \n",
        "    dwn_smp = test_downsample(x_data, y_time)\n",
        "    \n",
        "    merged_data = pd.concat([dwn_smp], axis=0).reset_index(drop=True)\n",
        "\n",
        "    Y_pred_test = rf.predict(merged_data)\n",
        "    \n",
        "    pd.DataFrame(Y_pred_test).to_csv(data_root+Y_DATA, index=False, header=False)"
      ],
      "metadata": {
        "id": "vsr0fLhQKgVo"
      },
      "execution_count": 44,
      "outputs": []
    }
  ]
}